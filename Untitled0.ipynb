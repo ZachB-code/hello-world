{
  "nbformat": 4,
  "nbformat_minor": 0,
  "metadata": {
    "colab": {
      "provenance": [],
      "authorship_tag": "ABX9TyM532QRiS0792ca6gBZFiHm",
      "include_colab_link": true
    },
    "kernelspec": {
      "name": "python3",
      "display_name": "Python 3"
    },
    "language_info": {
      "name": "python"
    }
  },
  "cells": [
    {
      "cell_type": "markdown",
      "metadata": {
        "id": "view-in-github",
        "colab_type": "text"
      },
      "source": [
        "<a href=\"https://colab.research.google.com/github/ZachB-code/hello-world/blob/master/Untitled0.ipynb\" target=\"_parent\"><img src=\"https://colab.research.google.com/assets/colab-badge.svg\" alt=\"Open In Colab\"/></a>"
      ]
    },
    {
      "cell_type": "code",
      "source": [
        "#Question 1:\n",
        "verse = \"If you can keep your head when all about you\\n Are losing theirs and blaming it on you,\\nIf you can trust yourself when all men doubt you,\\n But make allowance for their doubting too;\\nIf you can wait and not be tired by waiting,\\n Or being lied about, don’t deal in lies,\\nOr being hated, don’t give way to hating,\\n And yet don’t look too good, nor talk too wise:”\"\n",
        "\n",
        "print(\"Length of verse:\", len(verse))\n",
        "\n",
        "thirteen = verse[12]\n",
        "print(\"13th character:\", repr(thirteen))\n",
        "print(\"Is the 13th character capitalized?\", thirteen.isupper())\n",
        "\n",
        "oneand = verse.find(\"and\")\n",
        "twoand = verse.rfind(\"and\")\n",
        "print(\"First occurrence of 'and':\", oneand)\n",
        "print(\"Last occurrence of 'and':\", twoand)\n",
        "\n",
        "between = verse[oneand + len(\"and\"): twoand] if oneand != -1 and twoand != -1 and twoand > oneand else \"\"\n",
        "print(\"Text between first and last 'and':\")\n",
        "print(between)\n",
        "\n",
        "print(\"Number of times 'you' appears:\", verse.count(\"you\"))\n",
        "print(\"Number of times 'when' appears starting at 75:\", verse.count(\"when\", 75))\n"
      ],
      "metadata": {
        "colab": {
          "base_uri": "https://localhost:8080/"
        },
        "collapsed": true,
        "id": "aM0DjuQQLavK",
        "outputId": "dbe545dd-343d-43c5-e422-806fbde02d6e"
      },
      "execution_count": 3,
      "outputs": [
        {
          "output_type": "stream",
          "name": "stdout",
          "text": [
            "Length of verse: 359\n",
            "13th character: 'e'\n",
            "Is the 13th character capitalized? False\n",
            "First occurrence of 'and': 64\n",
            "Last occurrence of 'and': 197\n",
            "Text between first and last 'and':\n",
            " blaming it on you,\n",
            "If you can trust yourself when all men doubt you,\n",
            " But make allowance for their doubting too;\n",
            "If you can wait \n",
            "Number of times 'you' appears: 8\n",
            "Number of times 'when' appears starting at 75: 1\n"
          ]
        }
      ]
    },
    {
      "cell_type": "code",
      "source": [
        "#Question 2:\n",
        "student_number = int(input(\"Enter the number of students (between 3 and 10): \"))\n",
        "\n",
        "students = []\n",
        "\n",
        "for i in range(student_number):\n",
        "    print(f\"\\nStudent {i+1}:\")\n",
        "    name = input(\"Enter student name: \")\n",
        "    assignment = float(input(\"Enter assignment grade (must be 0-100): \"))\n",
        "    final = float(input(\"Enter final exam grade (must be 0-100): \"))\n",
        "\n",
        "    final_grade = (assignment * 0.75) + (final * 0.25)\n",
        "\n",
        "    students.append({\n",
        "        \"name\": name,\n",
        "        \"assignment\": assignment,\n",
        "        \"final\": final,\n",
        "        \"final_grade\": final_grade\n",
        "    })\n",
        "\n",
        "print(\"\\nStudent Grades:\")\n",
        "for s in students:\n",
        "    print(f\"Name: {s['name']}, Assignments: {s['assignment']}, \"\n",
        "          f\"Final Exam: {s['final']}, Final Grade: {s['final_grade']:.2f}\")\n",
        "\n",
        "final_grades = [s['final_grade'] for s in students]\n",
        "classaverage = sum(final_grades) / len(final_grades)\n",
        "highestgrade = max(students, key=lambda x: x['final_grade'])\n",
        "lowestgrade = min(students, key=lambda x: x['final_grade'])\n",
        "\n",
        "print(\"\\nClass Statistics:\")\n",
        "print(f\"Class Average Final Grade: {classaverage:.2f}\")\n",
        "print(f\"Highest Final Grade: {highestgrade['name']} ({highestgrade['final_grade']:.2f})\")\n",
        "print(f\"Lowest Final Grade: {lowestgrade['name']} ({lowestgrade['final_grade']:.2f})\")\n"
      ],
      "metadata": {
        "colab": {
          "base_uri": "https://localhost:8080/"
        },
        "id": "7atOJqFTMuqB",
        "outputId": "ea2a726d-ed2c-4713-cc16-e5030880af86"
      },
      "execution_count": 9,
      "outputs": [
        {
          "output_type": "stream",
          "name": "stdout",
          "text": [
            "Enter the number of students (between 3 and 10): 5\n",
            "\n",
            "Student 1:\n",
            "Enter student name: s\n",
            "Enter assignment grade (must be 0-100): 55\n",
            "Enter final exam grade (must be 0-100): 55\n",
            "\n",
            "Student 2:\n",
            "Enter student name: s\n",
            "Enter assignment grade (must be 0-100): 55\n",
            "Enter final exam grade (must be 0-100): 55\n",
            "\n",
            "Student 3:\n",
            "Enter student name: s\n",
            "Enter assignment grade (must be 0-100): 55\n",
            "Enter final exam grade (must be 0-100): 55\n",
            "\n",
            "Student 4:\n",
            "Enter student name: s\n",
            "Enter assignment grade (must be 0-100): 55\n",
            "Enter final exam grade (must be 0-100): 55\n",
            "\n",
            "Student 5:\n",
            "Enter student name: s\n",
            "Enter assignment grade (must be 0-100): 55\n",
            "Enter final exam grade (must be 0-100): 55\n",
            "Student Grades:\n",
            "\n",
            "Name: s, Assignments: 55.0, Final Exam: 55.0, Final Grade: 55.00\n",
            "Name: s, Assignments: 55.0, Final Exam: 55.0, Final Grade: 55.00\n",
            "Name: s, Assignments: 55.0, Final Exam: 55.0, Final Grade: 55.00\n",
            "Name: s, Assignments: 55.0, Final Exam: 55.0, Final Grade: 55.00\n",
            "Name: s, Assignments: 55.0, Final Exam: 55.0, Final Grade: 55.00\n",
            "\n",
            "Class Statistics:\n",
            "Class Average Final Grade: 55.00\n",
            "Highest Final Grade: s (55.00)\n",
            "Lowest Final Grade: s (55.00)\n"
          ]
        }
      ]
    }
  ]
}